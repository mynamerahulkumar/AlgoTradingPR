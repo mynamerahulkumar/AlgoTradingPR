{
 "cells": [
  {
   "cell_type": "markdown",
   "id": "dab6e5ec",
   "metadata": {
    "id": "dab6e5ec"
   },
   "source": [
    "# Trading with Python and Binance - Introduction to the API"
   ]
  },
  {
   "cell_type": "markdown",
   "id": "a3d869fd",
   "metadata": {
    "id": "a3d869fd"
   },
   "source": [
    "__Insert your Credentials here__:"
   ]
  },
  {
   "cell_type": "code",
   "execution_count": null,
   "id": "fedb28a8",
   "metadata": {
    "id": "fedb28a8"
   },
   "outputs": [],
   "source": [
    "api_key=\"GiIoRzFwwI6XmvaOCShY21XSZjLPfO8tbyeN1ZMLvfMqD5lW4SzyR44ZsrzZhOVM\"\n",
    "secret_key=\"7qbFT2xOaSxEW1eSuRsOZ0r5y4wSvVIHbmdoP28VbFEUpyOwC09xxoiaq2SzPBGt\"\n"
   ]
  },
  {
   "cell_type": "markdown",
   "id": "af9a4d53",
   "metadata": {
    "id": "af9a4d53"
   },
   "source": [
    "## Installing required Libraries/Packages"
   ]
  },
  {
   "cell_type": "markdown",
   "id": "2901f994",
   "metadata": {
    "id": "2901f994"
   },
   "source": [
    "For most Sections of this course, you should have installed:\n",
    "- Updated Anaconda Installation with Python Version 3.10 or higher\n",
    "- lastest python-binance Version (1.0.19 or higher)"
   ]
  },
  {
   "cell_type": "markdown",
   "id": "4cb790b5",
   "metadata": {
    "id": "4cb790b5"
   },
   "source": [
    "***Action required***:"
   ]
  },
  {
   "cell_type": "markdown",
   "id": "12b45f6f",
   "metadata": {
    "id": "12b45f6f"
   },
   "source": [
    "__1. If you haven´t updated Anaconda for a while, update with the command:__"
   ]
  },
  {
   "cell_type": "markdown",
   "id": "487f5063",
   "metadata": {
    "id": "487f5063"
   },
   "source": [
    "conda update anaconda"
   ]
  },
  {
   "cell_type": "markdown",
   "id": "1c5484e2",
   "metadata": {
    "id": "1c5484e2"
   },
   "source": [
    "__2a. Install python-binance__"
   ]
  },
  {
   "cell_type": "markdown",
   "id": "9da65fa5",
   "metadata": {
    "id": "9da65fa5"
   },
   "source": [
    "pip install python-binance"
   ]
  },
  {
   "cell_type": "markdown",
   "id": "2ad3c9f2",
   "metadata": {
    "id": "2ad3c9f2"
   },
   "source": [
    "__2b. In case you have installed python-binance a while ago, make sure you have the latest version installed:__"
   ]
  },
  {
   "cell_type": "markdown",
   "id": "45ba04e7",
   "metadata": {
    "id": "45ba04e7"
   },
   "source": [
    "pip install python-binance --upgrade"
   ]
  },
  {
   "cell_type": "code",
   "execution_count": null,
   "id": "2d816fc1",
   "metadata": {
    "id": "2d816fc1"
   },
   "outputs": [],
   "source": []
  },
  {
   "cell_type": "markdown",
   "id": "49a45235",
   "metadata": {
    "id": "49a45235"
   },
   "source": [
    "## Creating a Connection"
   ]
  },
  {
   "cell_type": "code",
   "execution_count": null,
   "id": "4743b747",
   "metadata": {
    "id": "4743b747"
   },
   "outputs": [],
   "source": [
    "from binance.client import Client"
   ]
  },
  {
   "cell_type": "markdown",
   "id": "c1201422",
   "metadata": {
    "id": "c1201422"
   },
   "source": [
    "If you have an account on __Binance.com__ (non-US users)"
   ]
  },
  {
   "cell_type": "code",
   "execution_count": null,
   "id": "84908c00",
   "metadata": {
    "id": "84908c00"
   },
   "outputs": [],
   "source": [
    "client = Client(api_key = api_key, api_secret = secret_key, tld = \"com\")"
   ]
  },
  {
   "cell_type": "code",
   "execution_count": null,
   "id": "0c03d176",
   "metadata": {
    "id": "0c03d176"
   },
   "outputs": [],
   "source": [
    "client"
   ]
  },
  {
   "cell_type": "code",
   "execution_count": null,
   "id": "b0795d04",
   "metadata": {
    "id": "b0795d04"
   },
   "outputs": [],
   "source": [
    "client.get_account() # account details"
   ]
  },
  {
   "cell_type": "markdown",
   "id": "ba2f2ebf",
   "metadata": {
    "id": "ba2f2ebf"
   },
   "source": [
    "If you have an account on __Binance.US__ (US residents) <br>\n",
    "(If you are using an exchange from the US, Japan or other TLD then make sure pass tld=a when creating the client.)\n"
   ]
  },
  {
   "cell_type": "code",
   "execution_count": null,
   "id": "7d7e5415",
   "metadata": {
    "id": "7d7e5415"
   },
   "outputs": [],
   "source": [
    "client = Client(api_key = api_key, api_secret = secret_key, tld = \"us\")"
   ]
  },
  {
   "cell_type": "code",
   "execution_count": null,
   "id": "3d0f9925",
   "metadata": {
    "id": "3d0f9925"
   },
   "outputs": [],
   "source": [
    "client.get_account()  # account details"
   ]
  },
  {
   "cell_type": "code",
   "execution_count": null,
   "id": "0d394d5b",
   "metadata": {
    "id": "0d394d5b"
   },
   "outputs": [],
   "source": []
  },
  {
   "cell_type": "markdown",
   "id": "b4c67d6f",
   "metadata": {
    "id": "b4c67d6f"
   },
   "source": [
    "## General account/system Info"
   ]
  },
  {
   "cell_type": "markdown",
   "id": "40e56281",
   "metadata": {
    "id": "40e56281"
   },
   "source": [
    "__Official API Documentation Site:__"
   ]
  },
  {
   "cell_type": "markdown",
   "id": "9c151512",
   "metadata": {
    "id": "9c151512"
   },
   "source": [
    "https://binance-docs.github.io/apidocs/spot/en/#introduction"
   ]
  },
  {
   "cell_type": "markdown",
   "id": "e811503a",
   "metadata": {
    "id": "e811503a"
   },
   "source": [
    "__API Wrapper (python-binance) Documentation Site:__"
   ]
  },
  {
   "cell_type": "markdown",
   "id": "2e34a1a5",
   "metadata": {
    "id": "2e34a1a5"
   },
   "source": [
    "https://python-binance.readthedocs.io/en/latest/index.html"
   ]
  },
  {
   "cell_type": "code",
   "execution_count": null,
   "id": "bd670d70",
   "metadata": {
    "id": "bd670d70"
   },
   "outputs": [],
   "source": [
    "import pandas as pd\n",
    "from binance.client import Client"
   ]
  },
  {
   "cell_type": "code",
   "execution_count": null,
   "id": "646c71c3",
   "metadata": {
    "id": "646c71c3"
   },
   "outputs": [],
   "source": [
    "client = Client(api_key = api_key, api_secret = secret_key, tld = \"com\")"
   ]
  },
  {
   "cell_type": "code",
   "execution_count": null,
   "id": "5e6d8b71",
   "metadata": {
    "id": "5e6d8b71"
   },
   "outputs": [],
   "source": [
    "client.ping() # Test connectivity"
   ]
  },
  {
   "cell_type": "code",
   "execution_count": null,
   "id": "93f5a1e6",
   "metadata": {
    "id": "93f5a1e6"
   },
   "outputs": [],
   "source": [
    "client.get_system_status()"
   ]
  },
  {
   "cell_type": "code",
   "execution_count": null,
   "id": "9f302a73",
   "metadata": {
    "id": "9f302a73"
   },
   "outputs": [],
   "source": [
    "account = client.get_account()\n",
    "account"
   ]
  },
  {
   "cell_type": "code",
   "execution_count": null,
   "id": "37d303d0",
   "metadata": {
    "id": "37d303d0"
   },
   "outputs": [],
   "source": [
    "account[\"accountType\"] # account Type (Spot, Futures)"
   ]
  },
  {
   "cell_type": "code",
   "execution_count": null,
   "id": "9e43283e",
   "metadata": {
    "id": "9e43283e"
   },
   "outputs": [],
   "source": [
    "pd.to_datetime(account[\"updateTime\"], unit = \"ms\") # Last Update -> UTC Time"
   ]
  },
  {
   "cell_type": "code",
   "execution_count": null,
   "id": "c00998ff",
   "metadata": {
    "id": "c00998ff"
   },
   "outputs": [],
   "source": [
    "account[\"balances\"] # asset balances"
   ]
  },
  {
   "cell_type": "code",
   "execution_count": null,
   "id": "5fe880a7",
   "metadata": {
    "id": "5fe880a7"
   },
   "outputs": [],
   "source": [
    "df = pd.DataFrame(account[\"balances\"])\n",
    "df"
   ]
  },
  {
   "cell_type": "code",
   "execution_count": null,
   "id": "390d6f03",
   "metadata": {
    "id": "390d6f03"
   },
   "outputs": [],
   "source": [
    "df.info()"
   ]
  },
  {
   "cell_type": "code",
   "execution_count": null,
   "id": "81f70401",
   "metadata": {
    "id": "81f70401"
   },
   "outputs": [],
   "source": [
    "df.free = pd.to_numeric(df.free, errors=\"coerce\")\n",
    "df.locked = pd.to_numeric(df.locked, errors=\"coerce\")"
   ]
  },
  {
   "cell_type": "code",
   "execution_count": null,
   "id": "94178658",
   "metadata": {
    "id": "94178658"
   },
   "outputs": [],
   "source": [
    "df.loc[df.free > 0]"
   ]
  },
  {
   "cell_type": "code",
   "execution_count": null,
   "id": "3d5a5dfc",
   "metadata": {
    "id": "3d5a5dfc"
   },
   "outputs": [],
   "source": [
    "client.get_asset_balance(asset = \"BTC\")"
   ]
  },
  {
   "cell_type": "code",
   "execution_count": null,
   "id": "cf953033",
   "metadata": {
    "id": "cf953033"
   },
   "outputs": [],
   "source": [
    "client.get_asset_balance(asset = \"ETH\")"
   ]
  },
  {
   "cell_type": "code",
   "execution_count": null,
   "id": "93c8b40a",
   "metadata": {
    "id": "93c8b40a"
   },
   "outputs": [],
   "source": [
    "float(client.get_asset_balance(asset=\"EUR\")[\"free\"])"
   ]
  },
  {
   "cell_type": "code",
   "execution_count": null,
   "id": "68a540ed",
   "metadata": {
    "id": "68a540ed"
   },
   "outputs": [],
   "source": [
    "snap = client.get_account_snapshot(type = \"SPOT\") # daily account snapshot\n",
    "snap"
   ]
  },
  {
   "cell_type": "code",
   "execution_count": null,
   "id": "b3324bd0",
   "metadata": {
    "id": "b3324bd0"
   },
   "outputs": [],
   "source": [
    "snap = pd.json_normalize(snap[\"snapshotVos\"])\n",
    "snap"
   ]
  },
  {
   "cell_type": "code",
   "execution_count": null,
   "id": "a96298f2",
   "metadata": {
    "id": "a96298f2"
   },
   "outputs": [],
   "source": [
    "snap.updateTime = pd.to_datetime(snap[\"updateTime\"], unit = \"ms\")"
   ]
  },
  {
   "cell_type": "code",
   "execution_count": null,
   "id": "4881ca9b",
   "metadata": {
    "id": "4881ca9b"
   },
   "outputs": [],
   "source": [
    "snap"
   ]
  },
  {
   "cell_type": "code",
   "execution_count": null,
   "id": "8788bc22",
   "metadata": {
    "id": "8788bc22"
   },
   "outputs": [],
   "source": [
    "snap[\"data.balances\"][0]"
   ]
  },
  {
   "cell_type": "code",
   "execution_count": null,
   "id": "da9e5075",
   "metadata": {
    "id": "da9e5075"
   },
   "outputs": [],
   "source": [
    "client.get_exchange_info()[\"rateLimits\"] # API Limits"
   ]
  },
  {
   "cell_type": "code",
   "execution_count": null,
   "id": "3b3bbb79",
   "metadata": {
    "id": "3b3bbb79"
   },
   "outputs": [],
   "source": [
    "client.get_all_coins_info() # asset/coin Info"
   ]
  },
  {
   "cell_type": "code",
   "execution_count": null,
   "id": "29731eb9",
   "metadata": {
    "id": "29731eb9"
   },
   "outputs": [],
   "source": [
    "coins = pd.DataFrame(client.get_all_coins_info()) # asset/coin Info\n",
    "coins"
   ]
  },
  {
   "cell_type": "code",
   "execution_count": null,
   "id": "f4b87eae",
   "metadata": {
    "id": "f4b87eae"
   },
   "outputs": [],
   "source": [
    "coins.loc[coins.coin == \"BTC\"]"
   ]
  },
  {
   "cell_type": "code",
   "execution_count": null,
   "id": "e7a495e9",
   "metadata": {
    "id": "e7a495e9"
   },
   "outputs": [],
   "source": [
    "coins.loc[coins.coin == \"EUR\"]"
   ]
  },
  {
   "cell_type": "code",
   "execution_count": null,
   "id": "2449fad2",
   "metadata": {
    "id": "2449fad2"
   },
   "outputs": [],
   "source": [
    "client.get_trade_fee(symbol = \"BTCUSDT\")"
   ]
  },
  {
   "cell_type": "code",
   "execution_count": null,
   "id": "49738300",
   "metadata": {
    "id": "49738300"
   },
   "outputs": [],
   "source": [
    "client.get_trade_fee(symbol = \"BTCEUR\")"
   ]
  },
  {
   "cell_type": "code",
   "execution_count": null,
   "id": "aab9081e",
   "metadata": {
    "id": "aab9081e"
   },
   "outputs": [],
   "source": [
    "client.get_trade_fee(symbol = \"BUSDUSDT\") # zero commissions for stable coin pairs"
   ]
  },
  {
   "cell_type": "code",
   "execution_count": null,
   "id": "98ec1057",
   "metadata": {
    "id": "98ec1057"
   },
   "outputs": [],
   "source": [
    "client.get_symbol_info(symbol = \"BTCEUR\") # information on symbol / pair"
   ]
  },
  {
   "cell_type": "code",
   "execution_count": null,
   "id": "d3381579",
   "metadata": {
    "id": "d3381579"
   },
   "outputs": [],
   "source": []
  },
  {
   "cell_type": "markdown",
   "id": "ac8d6fcd",
   "metadata": {
    "id": "ac8d6fcd"
   },
   "source": [
    "## Getting (current) Market Data"
   ]
  },
  {
   "cell_type": "code",
   "execution_count": null,
   "id": "406f5ce6",
   "metadata": {
    "id": "406f5ce6"
   },
   "outputs": [],
   "source": [
    "from binance.client import Client\n",
    "import pandas as pd"
   ]
  },
  {
   "cell_type": "code",
   "execution_count": null,
   "id": "a8b69c66",
   "metadata": {
    "id": "a8b69c66"
   },
   "outputs": [],
   "source": [
    "client = Client(api_key = api_key, api_secret = secret_key, tld = \"com\")"
   ]
  },
  {
   "cell_type": "markdown",
   "id": "c3db427e",
   "metadata": {
    "id": "c3db427e"
   },
   "source": [
    "__Current Prices__"
   ]
  },
  {
   "cell_type": "code",
   "execution_count": null,
   "id": "84360e93",
   "metadata": {
    "id": "84360e93"
   },
   "outputs": [],
   "source": [
    "client.get_symbol_ticker(symbol = \"BTCUSDT\") # current price for one symbol"
   ]
  },
  {
   "cell_type": "code",
   "execution_count": null,
   "id": "d54849c5",
   "metadata": {
    "id": "d54849c5"
   },
   "outputs": [],
   "source": [
    "float(client.get_symbol_ticker(symbol = \"BTCEUR\")[\"price\"])"
   ]
  },
  {
   "cell_type": "code",
   "execution_count": null,
   "id": "694c5432",
   "metadata": {
    "id": "694c5432"
   },
   "outputs": [],
   "source": [
    "client.get_avg_price(symbol = \"BTCUSDT\") # current average price"
   ]
  },
  {
   "cell_type": "code",
   "execution_count": null,
   "id": "652274fc",
   "metadata": {
    "id": "652274fc"
   },
   "outputs": [],
   "source": [
    "# get current prices for all pairs\n",
    "prices = client.get_all_tickers()\n",
    "prices"
   ]
  },
  {
   "cell_type": "code",
   "execution_count": null,
   "id": "62a54abb",
   "metadata": {
    "id": "62a54abb"
   },
   "outputs": [],
   "source": [
    "df = pd.DataFrame(prices)\n",
    "df"
   ]
  },
  {
   "cell_type": "code",
   "execution_count": null,
   "id": "4385b1ed",
   "metadata": {
    "id": "4385b1ed"
   },
   "outputs": [],
   "source": [
    "df[df.symbol.str.contains(\"ETH\")]"
   ]
  },
  {
   "cell_type": "code",
   "execution_count": null,
   "id": "9a31851b",
   "metadata": {
    "id": "9a31851b"
   },
   "outputs": [],
   "source": [
    "df[df.symbol.str.contains(\"BTC\") & df.symbol.str.contains(\"USD\")]"
   ]
  },
  {
   "cell_type": "code",
   "execution_count": null,
   "id": "e4f96fc8",
   "metadata": {
    "id": "e4f96fc8"
   },
   "outputs": [],
   "source": [
    "df[df.symbol.str.contains(\"BTC\") & df.symbol.str.contains(\"EUR\")]"
   ]
  },
  {
   "cell_type": "code",
   "execution_count": null,
   "id": "69749ee7",
   "metadata": {
    "id": "69749ee7"
   },
   "outputs": [],
   "source": [
    "last24 = client.get_ticker(symbol = \"BTCUSDT\") # 24H Price change statistic\n",
    "last24"
   ]
  },
  {
   "cell_type": "code",
   "execution_count": null,
   "id": "43d520fe",
   "metadata": {
    "id": "43d520fe"
   },
   "outputs": [],
   "source": [
    "last24[\"openTime\"]"
   ]
  },
  {
   "cell_type": "code",
   "execution_count": null,
   "id": "b461bbcc",
   "metadata": {
    "id": "b461bbcc"
   },
   "outputs": [],
   "source": [
    "pd.to_datetime(last24[\"openTime\"], unit = \"ms\")"
   ]
  },
  {
   "cell_type": "code",
   "execution_count": null,
   "id": "913f90a1",
   "metadata": {
    "id": "913f90a1"
   },
   "outputs": [],
   "source": [
    "pd.to_datetime(last24[\"closeTime\"], unit = \"ms\")"
   ]
  },
  {
   "cell_type": "code",
   "execution_count": null,
   "id": "3d139c21",
   "metadata": {
    "id": "3d139c21"
   },
   "outputs": [],
   "source": [
    "open_price = float(last24[\"openPrice\"])\n",
    "open_price"
   ]
  },
  {
   "cell_type": "code",
   "execution_count": null,
   "id": "04a65759",
   "metadata": {
    "id": "04a65759"
   },
   "outputs": [],
   "source": [
    "high_price = float(last24[\"highPrice\"])\n",
    "high_price"
   ]
  },
  {
   "cell_type": "code",
   "execution_count": null,
   "id": "b8c0c1e2",
   "metadata": {
    "id": "b8c0c1e2"
   },
   "outputs": [],
   "source": [
    "low_price = float(last24[\"lowPrice\"])\n",
    "low_price"
   ]
  },
  {
   "cell_type": "code",
   "execution_count": null,
   "id": "8a7ec0fe",
   "metadata": {
    "id": "8a7ec0fe"
   },
   "outputs": [],
   "source": [
    "close_price = float(last24[\"lastPrice\"])\n",
    "close_price"
   ]
  },
  {
   "cell_type": "code",
   "execution_count": null,
   "id": "42cb2e0e",
   "metadata": {
    "id": "42cb2e0e"
   },
   "outputs": [],
   "source": [
    "close_price - open_price"
   ]
  },
  {
   "cell_type": "code",
   "execution_count": null,
   "id": "e3ca520e",
   "metadata": {
    "id": "e3ca520e"
   },
   "outputs": [],
   "source": [
    "(close_price/open_price - 1) * 100"
   ]
  },
  {
   "cell_type": "code",
   "execution_count": null,
   "id": "96b4a7cf",
   "metadata": {
    "id": "96b4a7cf"
   },
   "outputs": [],
   "source": []
  },
  {
   "cell_type": "markdown",
   "id": "2d180404",
   "metadata": {
    "id": "2d180404"
   },
   "source": [
    "## Getting Historical Data (OHLC & Volume) - Part 1"
   ]
  },
  {
   "cell_type": "code",
   "execution_count": null,
   "id": "bb25a357",
   "metadata": {
    "id": "bb25a357"
   },
   "outputs": [],
   "source": [
    "from binance.client import Client\n",
    "import pandas as pd"
   ]
  },
  {
   "cell_type": "code",
   "execution_count": null,
   "id": "4715cad4",
   "metadata": {
    "id": "4715cad4"
   },
   "outputs": [],
   "source": [
    "client = Client(api_key = api_key, api_secret = secret_key, tld = \"com\")"
   ]
  },
  {
   "cell_type": "code",
   "execution_count": null,
   "id": "6a4d174a",
   "metadata": {
    "id": "6a4d174a"
   },
   "outputs": [],
   "source": [
    "timestamp = client._get_earliest_valid_timestamp(symbol = \"BTCUSDT\", interval = \"1d\")\n",
    "timestamp # earliest data available on Binance"
   ]
  },
  {
   "cell_type": "code",
   "execution_count": null,
   "id": "564e7e2a",
   "metadata": {
    "id": "564e7e2a"
   },
   "outputs": [],
   "source": [
    "pd.to_datetime(timestamp, unit = \"ms\") # earliest data available on Binance"
   ]
  },
  {
   "cell_type": "code",
   "execution_count": null,
   "id": "a1dd8119",
   "metadata": {
    "id": "a1dd8119"
   },
   "outputs": [],
   "source": [
    "bars = client.get_historical_klines(symbol = \"BTCUSDT\",\n",
    "                                    interval = \"1d\", start_str = timestamp, limit = 1000)\n",
    "bars"
   ]
  },
  {
   "cell_type": "code",
   "execution_count": null,
   "id": "1f405a21",
   "metadata": {
    "id": "1f405a21"
   },
   "outputs": [],
   "source": [
    "df = pd.DataFrame(bars)\n",
    "df"
   ]
  },
  {
   "cell_type": "code",
   "execution_count": null,
   "id": "2f7975c3",
   "metadata": {
    "id": "2f7975c3"
   },
   "outputs": [],
   "source": [
    "df[\"Date\"] = pd.to_datetime(df.iloc[:,0], unit = \"ms\")"
   ]
  },
  {
   "cell_type": "code",
   "execution_count": null,
   "id": "bdcb3334",
   "metadata": {
    "id": "bdcb3334"
   },
   "outputs": [],
   "source": [
    "df"
   ]
  },
  {
   "cell_type": "code",
   "execution_count": null,
   "id": "81934bce",
   "metadata": {
    "id": "81934bce"
   },
   "outputs": [],
   "source": [
    "df.columns = [\"Open Time\", \"Open\", \"High\", \"Low\", \"Close\",\n",
    "              \"Volume\", \"Clos Time\", \"Quote Asset Volume\",\n",
    "              \"Number of Trades\", \"Taker Buy Base Asset Volume\",\n",
    "              \"Taker Buy Quote Asset Volume\", \"Ignore\", \"Date\" ]"
   ]
  },
  {
   "cell_type": "code",
   "execution_count": null,
   "id": "925dd978",
   "metadata": {
    "id": "925dd978"
   },
   "outputs": [],
   "source": [
    "df"
   ]
  },
  {
   "cell_type": "code",
   "execution_count": null,
   "id": "83d6f483",
   "metadata": {
    "id": "83d6f483"
   },
   "outputs": [],
   "source": [
    "df = df[[\"Date\", \"Open\", \"High\", \"Low\", \"Close\", \"Volume\"]].copy()"
   ]
  },
  {
   "cell_type": "code",
   "execution_count": null,
   "id": "7af6e439",
   "metadata": {
    "id": "7af6e439"
   },
   "outputs": [],
   "source": [
    "df"
   ]
  },
  {
   "cell_type": "code",
   "execution_count": null,
   "id": "0cca9bcc",
   "metadata": {
    "id": "0cca9bcc"
   },
   "outputs": [],
   "source": [
    "df.set_index(\"Date\", inplace = True)"
   ]
  },
  {
   "cell_type": "code",
   "execution_count": null,
   "id": "fd8b6755",
   "metadata": {
    "id": "fd8b6755"
   },
   "outputs": [],
   "source": [
    "df"
   ]
  },
  {
   "cell_type": "code",
   "execution_count": null,
   "id": "d38d80c1",
   "metadata": {
    "id": "d38d80c1"
   },
   "outputs": [],
   "source": [
    "df.info()"
   ]
  },
  {
   "cell_type": "code",
   "execution_count": null,
   "id": "8673bbaf",
   "metadata": {
    "id": "8673bbaf"
   },
   "outputs": [],
   "source": [
    "for column in df.columns:\n",
    "    df[column] = pd.to_numeric(df[column], errors = \"coerce\")"
   ]
  },
  {
   "cell_type": "code",
   "execution_count": null,
   "id": "b6cd7dcd",
   "metadata": {
    "id": "b6cd7dcd"
   },
   "outputs": [],
   "source": []
  },
  {
   "cell_type": "markdown",
   "id": "389c836d",
   "metadata": {
    "id": "389c836d"
   },
   "source": [
    "## Getting Historical Data (OHLC & Volume) - Part 2"
   ]
  },
  {
   "cell_type": "code",
   "execution_count": null,
   "id": "2e361b59",
   "metadata": {
    "id": "2e361b59"
   },
   "outputs": [],
   "source": [
    "def get_history(symbol, interval, start, end = None):\n",
    "    bars = client.get_historical_klines(symbol = symbol, interval = interval,\n",
    "                                        start_str = start, end_str = end, limit = 1000)\n",
    "    df = pd.DataFrame(bars)\n",
    "    df[\"Date\"] = pd.to_datetime(df.iloc[:,0], unit = \"ms\")\n",
    "    df.columns = [\"Open Time\", \"Open\", \"High\", \"Low\", \"Close\", \"Volume\",\n",
    "                  \"Clos Time\", \"Quote Asset Volume\", \"Number of Trades\",\n",
    "                  \"Taker Buy Base Asset Volume\", \"Taker Buy Quote Asset Volume\", \"Ignore\", \"Date\"]\n",
    "    df = df[[\"Date\", \"Open\", \"High\", \"Low\", \"Close\", \"Volume\"]].copy()\n",
    "    df.set_index(\"Date\", inplace = True)\n",
    "    for column in df.columns:\n",
    "        df[column] = pd.to_numeric(df[column], errors = \"coerce\")\n",
    "\n",
    "    return df"
   ]
  },
  {
   "cell_type": "code",
   "execution_count": null,
   "id": "7c5e1305",
   "metadata": {
    "id": "7c5e1305"
   },
   "outputs": [],
   "source": [
    "timestamp"
   ]
  },
  {
   "cell_type": "markdown",
   "id": "2e54c528",
   "metadata": {
    "id": "2e54c528"
   },
   "source": [
    "__Daily Data until Today/Now__"
   ]
  },
  {
   "cell_type": "code",
   "execution_count": null,
   "id": "97329e22",
   "metadata": {
    "id": "97329e22"
   },
   "outputs": [],
   "source": [
    "df = get_history(symbol = \"BTCUSDT\", interval = \"1d\", start = timestamp)\n",
    "df"
   ]
  },
  {
   "cell_type": "code",
   "execution_count": null,
   "id": "7dc42d9f",
   "metadata": {
    "id": "7dc42d9f"
   },
   "outputs": [],
   "source": [
    "df.info()"
   ]
  },
  {
   "cell_type": "markdown",
   "id": "5e862f7b",
   "metadata": {
    "id": "5e862f7b"
   },
   "source": [
    "__Daily Data for specified Time Period__"
   ]
  },
  {
   "cell_type": "code",
   "execution_count": null,
   "id": "7a73d37a",
   "metadata": {
    "id": "7a73d37a"
   },
   "outputs": [],
   "source": [
    "df = get_history(symbol = \"BTCUSDT\", interval = \"1d\", start = \"2021-01-01\", end = \"2021-06-30\")\n",
    "df"
   ]
  },
  {
   "cell_type": "markdown",
   "id": "0376c488",
   "metadata": {
    "id": "0376c488"
   },
   "source": [
    "valid intervals - 1m, 3m, 5m, 15m, 30m, 1h, 2h, 4h, 6h, 8h, 12h, 1d, 3d, 1w, 1M"
   ]
  },
  {
   "cell_type": "markdown",
   "id": "f25ae946",
   "metadata": {
    "id": "f25ae946"
   },
   "source": [
    "__Weekly Data for specified Time Period__"
   ]
  },
  {
   "cell_type": "code",
   "execution_count": null,
   "id": "6b1f1fde",
   "metadata": {
    "id": "6b1f1fde"
   },
   "outputs": [],
   "source": [
    "df = get_history(symbol = \"BTCUSDT\", interval = \"1w\", start = \"2021-01-01\", end = \"2021-06-30\")\n",
    "df"
   ]
  },
  {
   "cell_type": "markdown",
   "id": "2aac021a",
   "metadata": {
    "id": "2aac021a"
   },
   "source": [
    "__Monthly Data for specified Time Period__"
   ]
  },
  {
   "cell_type": "code",
   "execution_count": null,
   "id": "68a08d46",
   "metadata": {
    "id": "68a08d46",
    "scrolled": true
   },
   "outputs": [],
   "source": [
    "df = get_history(symbol = \"BTCUSDT\", interval = \"1M\", start = \"2021-01-01\", end = \"2021-06-15\")\n",
    "df"
   ]
  },
  {
   "cell_type": "markdown",
   "id": "c9c9f985",
   "metadata": {
    "id": "c9c9f985"
   },
   "source": [
    "__Most recent Monthly Data (until today/now)__"
   ]
  },
  {
   "cell_type": "code",
   "execution_count": null,
   "id": "4d609d3d",
   "metadata": {
    "id": "4d609d3d"
   },
   "outputs": [],
   "source": [
    "df = get_history(symbol = \"BTCUSDT\", interval = \"1M\", start = \"2021-01-01\")\n",
    "df"
   ]
  },
  {
   "cell_type": "markdown",
   "id": "5e18fe57",
   "metadata": {
    "id": "5e18fe57"
   },
   "source": [
    "__Intraday Data (1H) for specified Time Period__"
   ]
  },
  {
   "cell_type": "code",
   "execution_count": null,
   "id": "68618bdf",
   "metadata": {
    "id": "68618bdf"
   },
   "outputs": [],
   "source": [
    "df = get_history(symbol = \"BTCUSDT\", interval = \"1h\", start = \"2021-10-01\", end = \"2021-10-05\")\n",
    "df"
   ]
  },
  {
   "cell_type": "code",
   "execution_count": null,
   "id": "22bdc89b",
   "metadata": {
    "id": "22bdc89b"
   },
   "outputs": [],
   "source": [
    "df = get_history(symbol = \"BTCUSDT\", interval = \"1h\",\n",
    "                 start = \"2021-10-01 10:00:00\", end = \"2021-10-05 16:00:00\")\n",
    "df"
   ]
  },
  {
   "cell_type": "markdown",
   "id": "0c1bbb57",
   "metadata": {
    "id": "0c1bbb57"
   },
   "source": [
    "__Intraday Data (1m) for specified Time Period__"
   ]
  },
  {
   "cell_type": "code",
   "execution_count": null,
   "id": "ae4c0280",
   "metadata": {
    "id": "ae4c0280"
   },
   "outputs": [],
   "source": [
    "df = get_history(symbol = \"BTCUSDT\", interval = \"1m\",\n",
    "                 start = \"2021-10-01 10:29:00\", end = \"2021-10-05 16:55:00\")\n",
    "df"
   ]
  },
  {
   "cell_type": "markdown",
   "id": "b128631e",
   "metadata": {
    "id": "b128631e"
   },
   "source": [
    "__Most recent (last 2 hours) Intraday Data (1m)__"
   ]
  },
  {
   "cell_type": "code",
   "execution_count": null,
   "id": "fd4f9bb9",
   "metadata": {
    "id": "fd4f9bb9"
   },
   "outputs": [],
   "source": [
    "from datetime import datetime, timedelta\n",
    "import datetime as dt # newly added"
   ]
  },
  {
   "cell_type": "code",
   "execution_count": null,
   "id": "4f137514",
   "metadata": {
    "id": "4f137514"
   },
   "outputs": [],
   "source": [
    "# now = datetime.utcnow() # old\n",
    "# now"
   ]
  },
  {
   "cell_type": "code",
   "execution_count": null,
   "id": "ac226ec1-3374-442a-9bc2-f6b589201242",
   "metadata": {
    "id": "ac226ec1-3374-442a-9bc2-f6b589201242"
   },
   "outputs": [],
   "source": [
    "now = datetime.now(dt.UTC) # new\n",
    "now"
   ]
  },
  {
   "cell_type": "code",
   "execution_count": null,
   "id": "3aad4a5a",
   "metadata": {
    "id": "3aad4a5a"
   },
   "outputs": [],
   "source": [
    "two_hours_before = now - timedelta(hours = 2)\n",
    "two_hours_before"
   ]
  },
  {
   "cell_type": "code",
   "execution_count": null,
   "id": "55fbbdd5",
   "metadata": {
    "id": "55fbbdd5"
   },
   "outputs": [],
   "source": [
    "str(two_hours_before)"
   ]
  },
  {
   "cell_type": "code",
   "execution_count": null,
   "id": "a860eb2e",
   "metadata": {
    "id": "a860eb2e"
   },
   "outputs": [],
   "source": [
    "df = get_history(symbol = \"BTCUSDT\", interval = \"1m\", start = str(two_hours_before))\n",
    "df"
   ]
  },
  {
   "cell_type": "code",
   "execution_count": null,
   "id": "8cef3d77",
   "metadata": {
    "id": "8cef3d77"
   },
   "outputs": [],
   "source": []
  },
  {
   "cell_type": "markdown",
   "id": "216b5c03",
   "metadata": {
    "id": "216b5c03"
   },
   "source": [
    "## Excursus: Loading Historical Data (csv) from the Website"
   ]
  },
  {
   "cell_type": "code",
   "execution_count": null,
   "id": "1f7bd9e5",
   "metadata": {
    "id": "1f7bd9e5"
   },
   "outputs": [],
   "source": [
    "import pandas as pd"
   ]
  },
  {
   "cell_type": "code",
   "execution_count": null,
   "id": "a68a95ac",
   "metadata": {
    "id": "a68a95ac"
   },
   "outputs": [],
   "source": [
    "url = r\"C:\\Users\\hagma\\OneDrive\\Desktop\\BTCUSDT-1h-2021-09\\BTCUSDT-1h-2021-09.csv\" # insert your filepath here\n",
    "url"
   ]
  },
  {
   "cell_type": "code",
   "execution_count": null,
   "id": "ca169273",
   "metadata": {
    "id": "ca169273"
   },
   "outputs": [],
   "source": [
    "df = pd.read_csv(url, header = None)\n",
    "df"
   ]
  },
  {
   "cell_type": "code",
   "execution_count": null,
   "id": "91e55384",
   "metadata": {
    "id": "91e55384"
   },
   "outputs": [],
   "source": [
    "df[\"Date\"] = pd.to_datetime(df.iloc[:,0], unit = \"ms\")\n",
    "df"
   ]
  },
  {
   "cell_type": "code",
   "execution_count": null,
   "id": "9a4f6dd1",
   "metadata": {
    "id": "9a4f6dd1"
   },
   "outputs": [],
   "source": [
    "df.columns = [\"Open Time\", \"Open\", \"High\", \"Low\", \"Close\", \"Volume\",\n",
    "                  \"Clos Time\", \"Quote Asset Volume\", \"Number of Trades\",\n",
    "                  \"Taker Buy Base Asset Volume\", \"Taker Buy Quote Asset Volume\", \"Ignore\", \"Date\"]\n",
    "df"
   ]
  },
  {
   "cell_type": "code",
   "execution_count": null,
   "id": "dfeaf2fa",
   "metadata": {
    "id": "dfeaf2fa"
   },
   "outputs": [],
   "source": [
    "df = df[[\"Date\", \"Open\", \"High\", \"Low\", \"Close\", \"Volume\"]].copy()\n",
    "df.set_index(\"Date\", inplace = True)\n",
    "\n",
    "#not required:\n",
    "#for column in df.columns:\n",
    "    #df[column] = pd.to_numeric(df[column], errors = \"coerce\")"
   ]
  },
  {
   "cell_type": "code",
   "execution_count": null,
   "id": "8e574ffb",
   "metadata": {
    "id": "8e574ffb"
   },
   "outputs": [],
   "source": [
    "df"
   ]
  },
  {
   "cell_type": "code",
   "execution_count": null,
   "id": "90d41fe6",
   "metadata": {
    "id": "90d41fe6"
   },
   "outputs": [],
   "source": [
    "df.info()"
   ]
  },
  {
   "cell_type": "code",
   "execution_count": null,
   "id": "ad430aeb",
   "metadata": {
    "id": "ad430aeb"
   },
   "outputs": [],
   "source": []
  },
  {
   "cell_type": "markdown",
   "id": "76ea9381",
   "metadata": {
    "id": "76ea9381"
   },
   "source": [
    "## Streaming Market Data (Part 1)"
   ]
  },
  {
   "cell_type": "markdown",
   "id": "517b9fd7",
   "metadata": {
    "id": "517b9fd7"
   },
   "source": [
    "### ++++++ Update (August 2023) ++++++++"
   ]
  },
  {
   "cell_type": "markdown",
   "id": "8541e71b",
   "metadata": {
    "id": "8541e71b"
   },
   "source": [
    "There are two alternatives to stream live data with python-binance:\n",
    "- using __ThreadedWebsocketManager__ -or-\n",
    "- using __BinanceSocketManager (newly added to the course)__"
   ]
  },
  {
   "cell_type": "markdown",
   "id": "414c9c2a",
   "metadata": {
    "id": "414c9c2a"
   },
   "source": [
    "__ThreadedWebsocketManager:__\n",
    "- Code is simpler\n",
    "- worked with Python Version 3.7/3.8/3.9 __and__ python-binance Version <= 1.0.15 in __Jupyter Notebooks and Scripts__\n",
    "- __no longer works in Juypter Notebooks__ if Python Version >= 3.10 __or__ python-binance Version > 1.0.15\n",
    "- important: still works in any case in Python scripts!!! __-> We´ll use it in Scripts (later in the course).__"
   ]
  },
  {
   "cell_type": "markdown",
   "id": "d1ded3e2",
   "metadata": {
    "id": "d1ded3e2"
   },
   "source": [
    "__BinanceSocketManager (NEW):__\n",
    "- Code is more complex\n",
    "- Works in Jupyter Notebooks and Scripts\n",
    "- __We´ll use it here in Jupyter Notebooks as an executable alternative__"
   ]
  },
  {
   "cell_type": "markdown",
   "id": "f028f208",
   "metadata": {
    "id": "f028f208"
   },
   "source": [
    "__What´s the benefit of covering both options?__<br>\n",
    "-> We can now __run Trading Bots in Jupyter and as a Script__ with the __latest Versions__ for Python and Python-Binance. No need to care about Versions and Installations anymore!"
   ]
  },
  {
   "cell_type": "markdown",
   "id": "36d72abf",
   "metadata": {
    "id": "36d72abf"
   },
   "source": [
    "----------------------------------------------------------------------"
   ]
  },
  {
   "cell_type": "markdown",
   "id": "8441ca15",
   "metadata": {
    "id": "8441ca15"
   },
   "source": [
    "### Option 1: ThreadedWebsocketManager (only executable in scripts, not in Jupyter!):"
   ]
  },
  {
   "cell_type": "code",
   "execution_count": null,
   "id": "92af8b55",
   "metadata": {
    "id": "92af8b55"
   },
   "outputs": [],
   "source": [
    "from binance import ThreadedWebsocketManager\n",
    "import time"
   ]
  },
  {
   "cell_type": "code",
   "execution_count": null,
   "id": "f3c79706",
   "metadata": {
    "id": "f3c79706"
   },
   "outputs": [],
   "source": [
    "def stream_data(msg):\n",
    "    ''' define how to process incoming WebSocket messages '''\n",
    "    print(msg)"
   ]
  },
  {
   "cell_type": "code",
   "execution_count": null,
   "id": "9a653d18",
   "metadata": {
    "id": "9a653d18"
   },
   "outputs": [],
   "source": [
    "# initialize and start the WebSocket\n",
    "twm = ThreadedWebsocketManager()\n",
    "twm.start()"
   ]
  },
  {
   "cell_type": "markdown",
   "id": "4f28306d",
   "metadata": {
    "id": "4f28306d"
   },
   "source": [
    "If you have an account on __Binance.US__ (US residents) <br>\n",
    "(If you are using an exchange from the US, Japan or other TLD then make sure pass tld=’us’ when initializing the TWM.)"
   ]
  },
  {
   "cell_type": "code",
   "execution_count": null,
   "id": "4fb334b0",
   "metadata": {
    "id": "4fb334b0"
   },
   "outputs": [],
   "source": [
    "# initialize and start the WebSocket in the us\n",
    "# twm = ThreadedWebsocketManager(tld = \"us\")\n",
    "# twm.start()"
   ]
  },
  {
   "cell_type": "code",
   "execution_count": null,
   "id": "182d7464",
   "metadata": {
    "id": "182d7464"
   },
   "outputs": [],
   "source": [
    "twm"
   ]
  },
  {
   "cell_type": "markdown",
   "id": "3e64f9a2",
   "metadata": {
    "id": "3e64f9a2"
   },
   "source": [
    "__Different Market Streams available:__ https://binance-docs.github.io/apidocs/spot/en/#websocket-market-streams"
   ]
  },
  {
   "cell_type": "markdown",
   "id": "b4abb269",
   "metadata": {
    "id": "b4abb269"
   },
   "source": [
    "__Individual Symbol Mini Ticker:__ 24hr rolling window mini-ticker statistics. These are NOT the statistics of the UTC day, but a 24hr rolling window for the previous 24hrs."
   ]
  },
  {
   "cell_type": "code",
   "execution_count": null,
   "id": "1db6b7b8",
   "metadata": {
    "id": "1db6b7b8"
   },
   "outputs": [],
   "source": [
    "# subscribe to the stream\n",
    "twm.start_symbol_miniticker_socket(callback = stream_data, symbol = \"BTCUSDT\")"
   ]
  },
  {
   "cell_type": "code",
   "execution_count": null,
   "id": "473ab5ee",
   "metadata": {
    "id": "473ab5ee"
   },
   "outputs": [],
   "source": [
    "# stop the Websocket/Stream after 20 seconds\n",
    "while True:\n",
    "    time.sleep(20)\n",
    "    twm.stop()\n",
    "    break"
   ]
  },
  {
   "cell_type": "markdown",
   "id": "d5bac91f",
   "metadata": {
    "id": "d5bac91f"
   },
   "source": [
    "__Individual Symbol Mini Ticker Output/Message:__"
   ]
  },
  {
   "cell_type": "markdown",
   "id": "92b33cdc",
   "metadata": {
    "id": "92b33cdc"
   },
   "source": [
    "![image.png](attachment:image.png)"
   ]
  },
  {
   "cell_type": "markdown",
   "id": "8d6af5c3",
   "metadata": {
    "id": "8d6af5c3"
   },
   "source": [
    "----------------------------------------------------"
   ]
  },
  {
   "cell_type": "markdown",
   "id": "b6d854d8",
   "metadata": {
    "id": "b6d854d8"
   },
   "source": [
    "### Option2: BinanceSocketManager (executable in Jupyter!):"
   ]
  },
  {
   "cell_type": "code",
   "execution_count": null,
   "id": "3e430f21",
   "metadata": {
    "id": "3e430f21"
   },
   "outputs": [],
   "source": [
    "import asyncio\n",
    "from binance import AsyncClient, BinanceSocketManager"
   ]
  },
  {
   "cell_type": "code",
   "execution_count": null,
   "id": "05b74273",
   "metadata": {
    "id": "05b74273"
   },
   "outputs": [],
   "source": [
    "def stream_data(msg):\n",
    "    ''' define how to process incoming WebSocket messages '''\n",
    "    print(msg)"
   ]
  },
  {
   "cell_type": "code",
   "execution_count": null,
   "id": "4c152815",
   "metadata": {
    "id": "4c152815"
   },
   "outputs": [],
   "source": [
    "async def main():\n",
    "    client = await AsyncClient.create()\n",
    "    bm = BinanceSocketManager(client)\n",
    "    ts = bm.symbol_miniticker_socket(symbol=\"BTCUSDT\")\n",
    "\n",
    "    async with ts as tscm:\n",
    "        for _ in range(n):  # This is just an example to limit the number of messages. Remove or adjust as needed.\n",
    "            res = await tscm.recv()\n",
    "            stream_data(res)\n",
    "\n",
    "    await client.close_connection()"
   ]
  },
  {
   "cell_type": "code",
   "execution_count": null,
   "id": "c3f89a5f",
   "metadata": {
    "id": "c3f89a5f"
   },
   "outputs": [],
   "source": [
    "n = 10 # stop stream after 10 messages"
   ]
  },
  {
   "cell_type": "code",
   "execution_count": null,
   "id": "8cd55bd6",
   "metadata": {
    "id": "8cd55bd6",
    "outputId": "755a09d4-1f32-48de-93e3-37fa8cff0a66"
   },
   "outputs": [
    {
     "name": "stdout",
     "output_type": "stream",
     "text": [
      "{'e': '24hrMiniTicker', 'E': 1729241769156, 's': 'BTCUSDT', 'c': '67926.00000000', 'o': '67467.99000000', 'h': '68378.95000000', 'l': '66666.00000000', 'v': '28437.26627000', 'q': '1916322375.61948070'}\n",
      "{'e': '24hrMiniTicker', 'E': 1729241770835, 's': 'BTCUSDT', 'c': '67926.00000000', 'o': '67468.00000000', 'h': '68378.95000000', 'l': '66666.00000000', 'v': '28437.35910000', 'q': '1916328692.68591730'}\n",
      "{'e': '24hrMiniTicker', 'E': 1729241771832, 's': 'BTCUSDT', 'c': '67933.48000000', 'o': '67467.99000000', 'h': '68378.95000000', 'l': '66666.00000000', 'v': '28437.87305000', 'q': '1916363613.17879940'}\n",
      "{'e': '24hrMiniTicker', 'E': 1729241772841, 's': 'BTCUSDT', 'c': '67936.83000000', 'o': '67467.99000000', 'h': '68378.95000000', 'l': '66666.00000000', 'v': '28438.26286000', 'q': '1916390097.56636670'}\n",
      "{'e': '24hrMiniTicker', 'E': 1729241773603, 's': 'BTCUSDT', 'c': '67942.81000000', 'o': '67468.00000000', 'h': '68378.95000000', 'l': '66666.00000000', 'v': '28438.61772000', 'q': '1916414210.40937860'}\n",
      "{'e': '24hrMiniTicker', 'E': 1729241775067, 's': 'BTCUSDT', 'c': '67942.89000000', 'o': '67468.00000000', 'h': '68378.95000000', 'l': '66666.00000000', 'v': '28438.61716000', 'q': '1916414172.67478760'}\n",
      "{'e': '24hrMiniTicker', 'E': 1729241775859, 's': 'BTCUSDT', 'c': '67942.90000000', 'o': '67467.99000000', 'h': '68378.95000000', 'l': '66666.00000000', 'v': '28438.43785000', 'q': '1916402085.56825840'}\n",
      "{'e': '24hrMiniTicker', 'E': 1729241776143, 's': 'BTCUSDT', 'c': '67942.90000000', 'o': '67468.00000000', 'h': '68378.95000000', 'l': '66666.00000000', 'v': '28438.55362000', 'q': '1916409952.25336410'}\n",
      "{'e': '24hrMiniTicker', 'E': 1729241778038, 's': 'BTCUSDT', 'c': '67942.90000000', 'o': '67456.00000000', 'h': '68378.95000000', 'l': '66666.00000000', 'v': '28436.77240000', 'q': '1916290136.07619380'}\n",
      "{'e': '24hrMiniTicker', 'E': 1729241778459, 's': 'BTCUSDT', 'c': '67945.09000000', 'o': '67456.00000000', 'h': '68378.95000000', 'l': '66666.00000000', 'v': '28437.10818000', 'q': '1916312950.08572850'}\n"
     ]
    }
   ],
   "source": [
    "await main() # start stream in Jupyter"
   ]
  },
  {
   "cell_type": "code",
   "execution_count": null,
   "id": "ad1b446d",
   "metadata": {
    "id": "ad1b446d"
   },
   "outputs": [],
   "source": [
    "# asyncio.run(main()) # start stream in Script!!!"
   ]
  },
  {
   "cell_type": "markdown",
   "id": "f4b01f27",
   "metadata": {
    "id": "f4b01f27"
   },
   "source": [
    "If you have an account on __Binance.US__ (US residents) <br>\n",
    "(If you are using an exchange from the US, Japan or other TLD then make sure pass tld=’us’ when initializing the client.)"
   ]
  },
  {
   "cell_type": "code",
   "execution_count": null,
   "id": "306676d1",
   "metadata": {
    "id": "306676d1"
   },
   "outputs": [],
   "source": [
    "async def main():\n",
    "    client = await AsyncClient.create(tld = \"us\")\n",
    "    bm = BinanceSocketManager(client)\n",
    "    ts = bm.symbol_miniticker_socket(symbol = \"BTCUSD\") # USD instead of USDT\n",
    "\n",
    "    async with ts as tscm:\n",
    "        for _ in range(n):  # This is just an example to limit the number of messages. Remove or adjust as needed.\n",
    "            res = await tscm.recv()\n",
    "            stream_data(res)\n",
    "\n",
    "    await client.close_connection()"
   ]
  },
  {
   "cell_type": "code",
   "execution_count": null,
   "id": "7d357898",
   "metadata": {
    "id": "7d357898"
   },
   "outputs": [],
   "source": [
    "await main()"
   ]
  },
  {
   "cell_type": "markdown",
   "id": "918f779e-5dd5-44e7-8fe3-1aa65c7575d9",
   "metadata": {
    "id": "918f779e-5dd5-44e7-8fe3-1aa65c7575d9"
   },
   "source": [
    "__Troubleshooting (October 2024)__"
   ]
  },
  {
   "cell_type": "markdown",
   "id": "90548b9c-68d5-4957-b4d7-f7aed31e5dfe",
   "metadata": {
    "id": "90548b9c-68d5-4957-b4d7-f7aed31e5dfe"
   },
   "source": [
    "In case you get a RuntimeError: aiodns needs a SelectorEventLoop in Windows (see screenshot below), please downgrade aiohttp to from version 3.10 to 3.9.5 with the following command:"
   ]
  },
  {
   "cell_type": "markdown",
   "id": "defa4c13-e2ab-42d8-adba-b61732019873",
   "metadata": {
    "id": "defa4c13-e2ab-42d8-adba-b61732019873"
   },
   "source": [
    "conda install aiohttp==3.9.5"
   ]
  },
  {
   "cell_type": "markdown",
   "id": "eb243317-aa13-40e2-9047-ba109ccbd34a",
   "metadata": {
    "id": "eb243317-aa13-40e2-9047-ba109ccbd34a"
   },
   "source": [
    "![aiohttp.png](attachment:e9ddd54c-07d3-4d66-b56a-fe115a2bc4e5.png)"
   ]
  },
  {
   "cell_type": "code",
   "execution_count": null,
   "id": "9e31980a-0655-47b7-928e-825a65d5db83",
   "metadata": {
    "id": "9e31980a-0655-47b7-928e-825a65d5db83"
   },
   "outputs": [],
   "source": []
  },
  {
   "cell_type": "markdown",
   "id": "28a1f965",
   "metadata": {
    "id": "28a1f965"
   },
   "source": [
    "## Streaming Market Data (Part 2)"
   ]
  },
  {
   "cell_type": "markdown",
   "id": "2184d2a2",
   "metadata": {
    "id": "2184d2a2"
   },
   "source": [
    "### Option 1: ThreadedWebsocketManager (only executable in scripts, not in Jupyter!):"
   ]
  },
  {
   "cell_type": "code",
   "execution_count": null,
   "id": "852db936",
   "metadata": {
    "id": "852db936"
   },
   "outputs": [],
   "source": [
    "from binance import ThreadedWebsocketManager\n",
    "import pandas as pd\n",
    "import time"
   ]
  },
  {
   "cell_type": "code",
   "execution_count": null,
   "id": "bc1b094f",
   "metadata": {
    "id": "bc1b094f"
   },
   "outputs": [],
   "source": [
    "# process data (not just printing)\n",
    "def stream_data(msg):\n",
    "    ''' define how to process incoming WebSocket messages '''\n",
    "\n",
    "    time = pd.to_datetime(msg[\"E\"], unit = \"ms\")\n",
    "    price = msg[\"c\"]\n",
    "\n",
    "    print(\"Time: {} | Price: {}\".format(time, price))"
   ]
  },
  {
   "cell_type": "code",
   "execution_count": null,
   "id": "7c19134b",
   "metadata": {
    "id": "7c19134b"
   },
   "outputs": [],
   "source": [
    "twm = ThreadedWebsocketManager()\n",
    "twm.start()"
   ]
  },
  {
   "cell_type": "code",
   "execution_count": null,
   "id": "e1e02359",
   "metadata": {
    "id": "e1e02359"
   },
   "outputs": [],
   "source": [
    "twm.start_symbol_miniticker_socket(callback = stream_data, symbol = \"BTCUSDT\")"
   ]
  },
  {
   "cell_type": "code",
   "execution_count": null,
   "id": "265f23c9",
   "metadata": {
    "id": "265f23c9"
   },
   "outputs": [],
   "source": [
    "while True:\n",
    "    time.sleep(20)\n",
    "    twm.stop()\n",
    "    break"
   ]
  },
  {
   "cell_type": "markdown",
   "id": "fbda2dfa",
   "metadata": {
    "id": "fbda2dfa"
   },
   "source": [
    "-----------------------------------------------"
   ]
  },
  {
   "cell_type": "markdown",
   "id": "c987c766",
   "metadata": {
    "id": "c987c766"
   },
   "source": [
    "### Option 2: BinanceSocketManager (executable in Jupyter!):"
   ]
  },
  {
   "cell_type": "code",
   "execution_count": null,
   "id": "bda7ad53",
   "metadata": {
    "id": "bda7ad53"
   },
   "outputs": [],
   "source": [
    "stream_data"
   ]
  },
  {
   "cell_type": "code",
   "execution_count": null,
   "id": "d1ea702d",
   "metadata": {
    "id": "d1ea702d"
   },
   "outputs": [],
   "source": [
    "import asyncio\n",
    "from binance import AsyncClient, BinanceSocketManager\n",
    "import pandas as pd"
   ]
  },
  {
   "cell_type": "code",
   "execution_count": null,
   "id": "382e4f2f",
   "metadata": {
    "id": "382e4f2f"
   },
   "outputs": [],
   "source": [
    "async def main():\n",
    "    client = await AsyncClient.create()\n",
    "    bm = BinanceSocketManager(client)\n",
    "    ts = bm.symbol_miniticker_socket(symbol = \"BTCUSDT\")\n",
    "\n",
    "    async with ts as tscm:\n",
    "        for _ in range(10):\n",
    "            res = await tscm.recv()\n",
    "            stream_data(res)\n",
    "\n",
    "    await client.close_connection()\n",
    "await main()"
   ]
  },
  {
   "cell_type": "code",
   "execution_count": null,
   "id": "cf3a7516",
   "metadata": {
    "id": "cf3a7516"
   },
   "outputs": [],
   "source": []
  },
  {
   "cell_type": "markdown",
   "id": "737f9d06",
   "metadata": {
    "id": "737f9d06"
   },
   "source": [
    "## Streaming and Collecting Real-Time Candles"
   ]
  },
  {
   "cell_type": "markdown",
   "id": "89284eb8",
   "metadata": {
    "id": "89284eb8"
   },
   "source": [
    "__Kline/Candlestick Stream:__ push updates to the current klines/candlestick every second."
   ]
  },
  {
   "cell_type": "markdown",
   "id": "b064e365",
   "metadata": {
    "id": "b064e365"
   },
   "source": [
    "https://binance-docs.github.io/apidocs/spot/en/#kline-candlestick-streams"
   ]
  },
  {
   "cell_type": "markdown",
   "id": "f30ce1b0",
   "metadata": {
    "id": "f30ce1b0"
   },
   "source": [
    "__Output/Message:__"
   ]
  },
  {
   "cell_type": "markdown",
   "id": "062c1a87",
   "metadata": {
    "id": "062c1a87"
   },
   "source": [
    "![image.png](attachment:image.png)"
   ]
  },
  {
   "cell_type": "markdown",
   "id": "d641abb0",
   "metadata": {
    "id": "d641abb0"
   },
   "source": [
    "### Option 1: ThreadedWebsocketManager (only executable in scripts, not in Jupyter!):"
   ]
  },
  {
   "cell_type": "code",
   "execution_count": null,
   "id": "3118a90e",
   "metadata": {
    "id": "3118a90e"
   },
   "outputs": [],
   "source": [
    "from binance import ThreadedWebsocketManager\n",
    "import pandas as pd\n",
    "import time"
   ]
  },
  {
   "cell_type": "code",
   "execution_count": null,
   "id": "a21ffdc2",
   "metadata": {
    "id": "a21ffdc2"
   },
   "outputs": [],
   "source": [
    "df = pd.DataFrame(columns = [\"Open\", \"High\", \"Low\", \"Close\", \"Volume\", \"Complete\"])\n",
    "df"
   ]
  },
  {
   "cell_type": "code",
   "execution_count": null,
   "id": "079798b4",
   "metadata": {
    "id": "079798b4"
   },
   "outputs": [],
   "source": [
    "def stream_candles(msg):\n",
    "    ''' define how to process incoming WebSocket messages '''\n",
    "\n",
    "    # extract the required items from msg\n",
    "    event_time = pd.to_datetime(msg[\"E\"], unit = \"ms\")\n",
    "    start_time = pd.to_datetime(msg[\"k\"][\"t\"], unit = \"ms\")\n",
    "    first   = float(msg[\"k\"][\"o\"])\n",
    "    high    = float(msg[\"k\"][\"h\"])\n",
    "    low     = float(msg[\"k\"][\"l\"])\n",
    "    close   = float(msg[\"k\"][\"c\"])\n",
    "    volume  = float(msg[\"k\"][\"v\"])\n",
    "    complete=       msg[\"k\"][\"x\"]\n",
    "\n",
    "    # print out\n",
    "    print(\"Time: {} | Price: {}\".format(event_time, close))\n",
    "\n",
    "    # feed df (add new bar / update latest bar)\n",
    "    df.loc[start_time] = [first, high, low, close, volume, complete]"
   ]
  },
  {
   "cell_type": "code",
   "execution_count": null,
   "id": "2cfc6c17",
   "metadata": {
    "id": "2cfc6c17"
   },
   "outputs": [],
   "source": [
    "twm = ThreadedWebsocketManager()\n",
    "twm.start()"
   ]
  },
  {
   "cell_type": "markdown",
   "id": "1e57c6fa",
   "metadata": {
    "id": "1e57c6fa"
   },
   "source": [
    "valid intervals - 1m, 3m, 5m, 15m, 30m, 1h, 2h, 4h, 6h, 8h, 12h, 1d, 3d, 1w, 1M"
   ]
  },
  {
   "cell_type": "code",
   "execution_count": null,
   "id": "e452d450",
   "metadata": {
    "id": "e452d450"
   },
   "outputs": [],
   "source": [
    "twm.start_kline_socket(callback = stream_candles, symbol = \"BTCUSDT\", interval = \"1m\")"
   ]
  },
  {
   "cell_type": "code",
   "execution_count": null,
   "id": "bd68a683",
   "metadata": {
    "id": "bd68a683"
   },
   "outputs": [],
   "source": [
    "while True:\n",
    "    time.sleep(120) # stop after 2 minutes\n",
    "    twm.stop()\n",
    "    break"
   ]
  },
  {
   "cell_type": "code",
   "execution_count": null,
   "id": "13b731f7",
   "metadata": {
    "id": "13b731f7"
   },
   "outputs": [],
   "source": [
    "print(df)"
   ]
  },
  {
   "cell_type": "markdown",
   "id": "41d19fe5",
   "metadata": {
    "id": "41d19fe5"
   },
   "source": [
    "----------------------------------------------"
   ]
  },
  {
   "cell_type": "markdown",
   "id": "7f2785c3",
   "metadata": {
    "id": "7f2785c3"
   },
   "source": [
    "### Option 2: BinanceSocketManager (executable in Jupyter!):"
   ]
  },
  {
   "cell_type": "code",
   "execution_count": null,
   "id": "4ea1a74f",
   "metadata": {
    "id": "4ea1a74f"
   },
   "outputs": [],
   "source": [
    "import asyncio\n",
    "from binance import AsyncClient, BinanceSocketManager\n",
    "import pandas as pd"
   ]
  },
  {
   "cell_type": "code",
   "execution_count": null,
   "id": "26080902",
   "metadata": {
    "id": "26080902"
   },
   "outputs": [],
   "source": [
    "df = pd.DataFrame(columns = [\"Open\", \"High\", \"Low\", \"Close\", \"Volume\", \"Complete\"])\n",
    "df"
   ]
  },
  {
   "cell_type": "code",
   "execution_count": null,
   "id": "f145f16d",
   "metadata": {
    "id": "f145f16d"
   },
   "outputs": [],
   "source": [
    "stream_candles"
   ]
  },
  {
   "cell_type": "code",
   "execution_count": null,
   "id": "92aa5a31",
   "metadata": {
    "id": "92aa5a31",
    "scrolled": true
   },
   "outputs": [],
   "source": [
    "async def main():\n",
    "    client = await AsyncClient.create()\n",
    "    bm = BinanceSocketManager(client)\n",
    "    ts = bm.kline_socket(symbol = \"BTCUSDT\", interval = \"1m\")\n",
    "\n",
    "    async with ts as tscm:\n",
    "        for _ in range(50):  # This is just an example to limit the number of messages. Remove or adjust as needed.\n",
    "            res = await tscm.recv()\n",
    "            stream_candles(res)\n",
    "\n",
    "    await client.close_connection()\n",
    "await main()"
   ]
  },
  {
   "cell_type": "code",
   "execution_count": null,
   "id": "c55c3ac0",
   "metadata": {
    "id": "c55c3ac0"
   },
   "outputs": [],
   "source": [
    "df"
   ]
  },
  {
   "cell_type": "code",
   "execution_count": null,
   "id": "362bcde0",
   "metadata": {
    "id": "362bcde0"
   },
   "outputs": [],
   "source": [
    "df.info()"
   ]
  },
  {
   "cell_type": "code",
   "execution_count": null,
   "id": "4c5b74a8",
   "metadata": {
    "id": "4c5b74a8"
   },
   "outputs": [],
   "source": []
  },
  {
   "cell_type": "markdown",
   "id": "f9c909d8",
   "metadata": {
    "id": "f9c909d8"
   },
   "source": [
    "## Creating a Test Order"
   ]
  },
  {
   "cell_type": "code",
   "execution_count": null,
   "id": "d8360de8",
   "metadata": {
    "id": "d8360de8"
   },
   "outputs": [],
   "source": [
    "from binance.client import Client"
   ]
  },
  {
   "cell_type": "code",
   "execution_count": null,
   "id": "3a3089bd",
   "metadata": {
    "id": "3a3089bd"
   },
   "outputs": [],
   "source": [
    "client = Client(api_key = api_key, api_secret = secret_key, tld = \"com\")"
   ]
  },
  {
   "cell_type": "markdown",
   "id": "43f257eb-08ae-449f-914b-0bed92acaaf5",
   "metadata": {
    "id": "43f257eb-08ae-449f-914b-0bed92acaaf5"
   },
   "source": [
    "__Note: The next code may return an BinanceAPIException Error. No problem as we do Paper Trading in the Spot Testnet anyway.__"
   ]
  },
  {
   "cell_type": "code",
   "execution_count": null,
   "id": "0561c813",
   "metadata": {
    "id": "0561c813"
   },
   "outputs": [],
   "source": [
    "# place a test market buy order, to place an actual order use the create_order function\n",
    "order = client.create_test_order(symbol = \"BTCEUR\", side = \"BUY\", type = \"MARKET\", quantity = 0.1)"
   ]
  },
  {
   "cell_type": "code",
   "execution_count": null,
   "id": "e031c52e",
   "metadata": {
    "id": "e031c52e"
   },
   "outputs": [],
   "source": [
    "order"
   ]
  },
  {
   "cell_type": "markdown",
   "id": "2a31ff06",
   "metadata": {
    "id": "2a31ff06"
   },
   "source": [
    "-> Paper Trading in the __Spot Testnet__ (see next Lectures)!!!"
   ]
  },
  {
   "cell_type": "code",
   "execution_count": null,
   "id": "db630d96",
   "metadata": {
    "id": "db630d96"
   },
   "outputs": [],
   "source": []
  }
 ],
 "metadata": {
  "colab": {
   "provenance": []
  },
  "kernelspec": {
   "display_name": "Python 3 (ipykernel)",
   "language": "python",
   "name": "python3"
  },
  "language_info": {
   "codemirror_mode": {
    "name": "ipython",
    "version": 3
   },
   "file_extension": ".py",
   "mimetype": "text/x-python",
   "name": "python",
   "nbconvert_exporter": "python",
   "pygments_lexer": "ipython3",
   "version": "3.12.0"
  }
 },
 "nbformat": 4,
 "nbformat_minor": 5
}
